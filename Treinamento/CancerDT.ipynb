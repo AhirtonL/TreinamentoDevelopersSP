{
 "cells": [
  {
   "cell_type": "code",
   "execution_count": 1,
   "metadata": {},
   "outputs": [],
   "source": [
    "# Treinamento - Developers SP + AI Brasil - 09/06/2018\n",
    "\n",
    "# Imports Diversos\n",
    "\n",
    "from sklearn import tree\n",
    "import pydotplus\n",
    "import numpy as np\n",
    "import sys"
   ]
  },
  {
   "cell_type": "code",
   "execution_count": 2,
   "metadata": {},
   "outputs": [],
   "source": [
    "# Input do dataset de Treinamento\n",
    "\n",
    "# Classes \"No cancer\", \"Cancer Left Breast\", \"Cancer Right Breast\", \"Cancer Both Breasts\"\n",
    "\n",
    "input_data = open(\"Desktop/training_sample.csv\", \"r\").read().split(\"\\n\")\n",
    "\n",
    "features = input_data[0].split(\",\")\n",
    "del features[3] # removing cancerL label\n",
    "del features[3] # removing cancerR label\n",
    "\n",
    "del input_data[0] # removing csv header\n",
    "del input_data[-1] # removing last empty line\n",
    "\n",
    "class_names = [\"No cancer\", \"Cancer Left Breast\", \"Cancer Right Breast\", \"Cancer Both Breasts\"]\n",
    "samples = []\n",
    "sample_classes = []\n",
    "\n",
    "def cancer_enum(cancerL, cancerR):\n",
    "\tif cancerL == 1 and cancerR == 1: # creating a list of classes to which respective samples belong to\n",
    "\t\treturn 3 # 3 meaning cancer on both left and right breast\n",
    "\telif cancerL == 1 and cancerR == 0:\n",
    "\t\treturn 1 # 1 meaning cancer on left brest only\n",
    "\telif cancerL == 0 and cancerR == 1:\n",
    "\t\treturn 2 # 2 meaning cancer on right breast only\n",
    "\telif cancerL == 0 and cancerR == 0:\n",
    "\t\treturn 0 # 0 meaning, No cancer on either breasts\n",
    "\telse:\n",
    "\t\treturn 0"
   ]
  },
  {
   "cell_type": "code",
   "execution_count": 3,
   "metadata": {},
   "outputs": [
    {
     "data": {
      "text/plain": [
       "True"
      ]
     },
     "execution_count": 3,
     "metadata": {},
     "output_type": "execute_result"
    }
   ],
   "source": [
    "# Aplicando classificação supervisionada via sklearn\n",
    "\n",
    "for i, line in enumerate(input_data):\n",
    "\tdata = line.split(\",\")\n",
    "\tcancerL, cancerR = int(data[3]), int(data[4])\n",
    "\tdel data[3] # removing cancerL value from array\n",
    "\tdel data[3] # removing cancerR value from array\n",
    "\tsamples.append(data)\n",
    "\tsample_classes.append(cancer_enum(cancerL, cancerR))\n",
    "\n",
    "\n",
    "clf = tree.DecisionTreeClassifier()\n",
    "clf = clf.fit(samples, sample_classes)\n",
    "\n",
    "dot_data = tree.export_graphviz(clf, out_file=None, feature_names=features,\n",
    "\tclass_names=class_names, filled=True, rounded=True,\tspecial_characters=True)\n",
    "graph = pydotplus.graph_from_dot_data(dot_data) \n",
    "graph.write_pdf(\"classification.pdf\") # generates tree classification as a pdf"
   ]
  },
  {
   "cell_type": "code",
   "execution_count": 5,
   "metadata": {},
   "outputs": [
    {
     "name": "stdout",
     "output_type": "stream",
     "text": [
      "\n",
      "classification accuracy = 91%\n",
      "\n",
      "To view the classification, open \"classification.pdf\" that has been generated. \n",
      "\n"
     ]
    }
   ],
   "source": [
    "# Testando dados de test_sample no modelo gerado\n",
    "\n",
    "test_data = open(\"Desktop/test_sample.csv\", \"r\").read().split(\"\\n\")\n",
    "del test_data[0] # removing csv header\n",
    "del test_data[-1]\n",
    "\n",
    "samples_count = 0\n",
    "success = 0\n",
    "for i, line in enumerate(test_data): #testing the classification accuracy\n",
    "\tdata = line.split(\",\")\n",
    "\tcancerL, cancerR = int(data[3]), int(data[4])\n",
    "\tdel data[3] # removing cancerL value from array\n",
    "\tdel data[3] # removing cancerR value from array\n",
    "\texpected_result = cancer_enum(cancerL, cancerR)\n",
    "\tsamples_count += 1\n",
    "\tresult = clf.predict(np.array(data).reshape(1,-1))[0]\n",
    "\tif result == expected_result:\n",
    "\t\tsuccess += 1\n",
    "        \n",
    "# Acurácia (Casos corretamente classificados)\n",
    "\n",
    "print \"\\nclassification accuracy = \"+str((100*success)/samples_count)+\"%\\n\"\n",
    "\n",
    "print \"To view the classification, open \\\"classification.pdf\\\" that has been generated. \\n\""
   ]
  },
  {
   "cell_type": "code",
   "execution_count": null,
   "metadata": {},
   "outputs": [],
   "source": []
  }
 ],
 "metadata": {
  "kernelspec": {
   "display_name": "Python 2",
   "language": "python",
   "name": "python2"
  },
  "language_info": {
   "codemirror_mode": {
    "name": "ipython",
    "version": 2
   },
   "file_extension": ".py",
   "mimetype": "text/x-python",
   "name": "python",
   "nbconvert_exporter": "python",
   "pygments_lexer": "ipython2",
   "version": "2.7.14"
  }
 },
 "nbformat": 4,
 "nbformat_minor": 2
}
