{
 "cells": [
  {
   "cell_type": "code",
   "execution_count": 32,
   "metadata": {},
   "outputs": [
    {
     "data": {
      "text/plain": [
       "[<matplotlib.lines.Line2D at 0x9b781d0>]"
      ]
     },
     "execution_count": 32,
     "metadata": {},
     "output_type": "execute_result"
    },
    {
     "data": {
      "image/png": "[encoded data removed]",
      "text/plain": [
       "<matplotlib.figure.Figure at 0x9b78570>"
      ]
     },
     "metadata": {},
     "output_type": "display_data"
    }
   ],
   "source": [
    "# Treinamento - Developers SP + AI Brasil - 09/06/2018\n",
    "\n",
    "import numpy as np\n",
    "\n",
    "from matplotlib import pyplot as plt\n",
    "%matplotlib inline\n",
    "\n",
    "#Dados de Entrada - [Valores de X, Y e Bias]\n",
    "\n",
    "X = np.array([\n",
    "    [-2,3,-1],\n",
    "    [2,0,-1],\n",
    "    [4, 5, -1],\n",
    "    [4, 8, -1],\n",
    "    [6, 2, -1],\n",
    "])\n",
    "\n",
    "#Rótulos de saída associados \n",
    "\n",
    "y = np.array([-1,-1,-1,1,1,1])\n",
    "\n",
    "#Cada um dos exemplos é então plotado em um gráfico 2D\n",
    "\n",
    "for d, sample in enumerate(X):\n",
    "    \n",
    "    # Plotando  as amostras negativas com marcador vermelho\n",
    "    if d < 2:\n",
    "        plt.scatter(sample[0], sample[1], s=120, marker='o', linewidths=2, color='red')\n",
    "    \n",
    "    # Plotando as amostras positivas com marcador azul\n",
    "    else:\n",
    "        plt.scatter(sample[0], sample[1], s=120, marker='o', linewidths=2, color='blue')\n",
    "\n",
    "#Plot do hiperplano para separação entre as duas classes. São escolhidos dois pontos e plotada uma linha os separando\n",
    "\n",
    "plt.plot([-2,6],[6,0.5])"
   ]
  },
  {
   "cell_type": "code",
   "execution_count": 33,
   "metadata": {},
   "outputs": [],
   "source": [
    "#Descida de gradiente, de forma estocástica, para aprender o hiperplano separado entre as duas classes\n",
    "\n",
    "def svm_sgd_plot(X, Y):\n",
    "    \n",
    "    #Inicialização de nosso vetor de pesos SVM com zeros\n",
    "    w = np.zeros(len(X[0]))\n",
    "   \n",
    "    #Taxa de Aprendizagem\n",
    "    eta = 1\n",
    "    \n",
    "    #Número de épocas de treinamento\n",
    "    epochs = 100000\n",
    "   \n",
    "    #Gravar classificações errôneas\n",
    "    errors = []\n",
    "\n",
    "    #Treinamento e Gradiente Descendente\n",
    "    for epoch in range(1,epochs):\n",
    "        error = 0\n",
    "        for i, x in enumerate(X):\n",
    "        \n",
    "            #Classificações Errôneas\n",
    "            if (Y[i]*np.dot(X[i], w)) < 1:\n",
    "                \n",
    "                #Update de pesos de acordo com classificações errôneas\n",
    "                w = w + eta * ( (X[i] * Y[i]) + (-2  *(1/epoch)* w) )\n",
    "                error = 1\n",
    "            else:\n",
    "                \n",
    "                #Update de pesos de acordo com classificações corretas\n",
    "                w = w + eta * (-2  *(1/epoch)* w)\n",
    "        errors.append(error)\n",
    "    \n",
    "    return w"
   ]
  },
  {
   "cell_type": "code",
   "execution_count": 34,
   "metadata": {},
   "outputs": [],
   "source": [
    "w = svm_sgd_plot(X,y)"
   ]
  },
  {
   "cell_type": "code",
   "execution_count": 35,
   "metadata": {},
   "outputs": [
    {
     "data": {
      "text/plain": [
       "<matplotlib.quiver.Quiver at 0xaf24f50>"
      ]
     },
     "execution_count": 35,
     "metadata": {},
     "output_type": "execute_result"
    },
    {
     "data": {
      "image/png": "[encoded data removed]",
      "text/plain": [
       "<matplotlib.figure.Figure at 0xa26a4f0>"
      ]
     },
     "metadata": {},
     "output_type": "display_data"
    }
   ],
   "source": [
    "for d, sample in enumerate(X):\n",
    "    # Plot das amostras negativas\n",
    "    if d < 2:\n",
    "        plt.scatter(sample[0], sample[1], s=120, marker='o', linewidths=2, color='red')\n",
    "   \n",
    "    # Plot das amostras positivas\n",
    "    else:\n",
    "        plt.scatter(sample[0], sample[1], s=120, marker='o', linewidths=2, color='blue')\n",
    "\n",
    "# Adicionando amostras de teste\n",
    "plt.scatter(0,-2, s=120, marker='*', linewidths=2, color='pink')\n",
    "plt.scatter(0,2, s=120, marker='*', linewidths=2, color='purple')\n",
    "plt.scatter(6,6, s=120, marker='*', linewidths=2, color='red')\n",
    "plt.scatter(4,6, s=120, marker='*', linewidths=2, color='blue')\n",
    "\n",
    "# Print do hiperplano calculado via svm_sgd()\n",
    "x2=[w[0],w[1],-w[1],w[0]]\n",
    "x3=[w[0],w[1],w[1],-w[0]]\n",
    "\n",
    "x2x3 =np.array([x2,x3])\n",
    "X,Y,U,V = zip(*x2x3)\n",
    "ax = plt.gca()\n",
    "ax.quiver(X,Y,U,V,scale=1, color='blue')"
   ]
  },
  {
   "cell_type": "code",
   "execution_count": null,
   "metadata": {},
   "outputs": [],
   "source": []
  },
  {
   "cell_type": "code",
   "execution_count": null,
   "metadata": {},
   "outputs": [],
   "source": []
  },
  {
   "cell_type": "code",
   "execution_count": null,
   "metadata": {},
   "outputs": [],
   "source": []
  }
 ],
 "metadata": {
  "kernelspec": {
   "display_name": "Python 2",
   "language": "python",
   "name": "python2"
  },
  "language_info": {
   "codemirror_mode": {
    "name": "ipython",
    "version": 2
   },
   "file_extension": ".py",
   "mimetype": "text/x-python",
   "name": "python",
   "nbconvert_exporter": "python",
   "pygments_lexer": "ipython2",
   "version": "2.7.14"
  }
 },
 "nbformat": 4,
 "nbformat_minor": 2
}
